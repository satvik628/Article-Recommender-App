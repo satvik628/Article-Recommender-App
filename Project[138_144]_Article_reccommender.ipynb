{
  "nbformat": 4,
  "nbformat_minor": 0,
  "metadata": {
    "colab": {
      "name": "Project[138-144]_Article_reccommender.ipynb",
      "provenance": [],
      "collapsed_sections": []
    },
    "kernelspec": {
      "name": "python3",
      "display_name": "Python 3"
    },
    "language_info": {
      "name": "python"
    }
  },
  "cells": [
    {
      "cell_type": "markdown",
      "metadata": {
        "id": "zBIWwy8ePHGl"
      },
      "source": [
        "#**Article Recommender App**\n",
        "\n",
        "\n",
        "This is a collab sheet for data merging and unzipping of the codes . Following have cpdes for Part 1 . After preparing this data it can be used for implementing a react native application .\n",
        "\n",
        "\n",
        "Collab sheet's code by satvik ."
      ]
    },
    {
      "cell_type": "markdown",
      "metadata": {
        "id": "T7kp2Fr8Jf1J"
      },
      "source": [
        "####***Part - A (1)  Importing data from .kaggle.com***"
      ]
    },
    {
      "cell_type": "markdown",
      "metadata": {
        "id": "WmXwXQxlPyRC"
      },
      "source": [
        "##**Steps** :--\n",
        "\n",
        "### **(1)** Working on terminal first \n",
        "\n",
        "Installing kaggle using *pip install* command .\n",
        "\n",
        "######***Remember to install the kaggle.json file before working on below given codes*** . 👇👇👇"
      ]
    },
    {
      "cell_type": "code",
      "metadata": {
        "colab": {
          "base_uri": "https://localhost:8080/"
        },
        "id": "wKkgbmyNNQ40",
        "outputId": "e50cc7c3-6a12-47e7-ce9a-f00e16192586"
      },
      "source": [
        "!pip install kaggle"
      ],
      "execution_count": 1,
      "outputs": [
        {
          "output_type": "stream",
          "name": "stdout",
          "text": [
            "Requirement already satisfied: kaggle in /usr/local/lib/python3.7/dist-packages (1.5.12)\n",
            "Requirement already satisfied: urllib3 in /usr/local/lib/python3.7/dist-packages (from kaggle) (1.24.3)\n",
            "Requirement already satisfied: six>=1.10 in /usr/local/lib/python3.7/dist-packages (from kaggle) (1.15.0)\n",
            "Requirement already satisfied: python-slugify in /usr/local/lib/python3.7/dist-packages (from kaggle) (5.0.2)\n",
            "Requirement already satisfied: requests in /usr/local/lib/python3.7/dist-packages (from kaggle) (2.23.0)\n",
            "Requirement already satisfied: certifi in /usr/local/lib/python3.7/dist-packages (from kaggle) (2021.5.30)\n",
            "Requirement already satisfied: python-dateutil in /usr/local/lib/python3.7/dist-packages (from kaggle) (2.8.2)\n",
            "Requirement already satisfied: tqdm in /usr/local/lib/python3.7/dist-packages (from kaggle) (4.62.3)\n",
            "Requirement already satisfied: text-unidecode>=1.3 in /usr/local/lib/python3.7/dist-packages (from python-slugify->kaggle) (1.3)\n",
            "Requirement already satisfied: idna<3,>=2.5 in /usr/local/lib/python3.7/dist-packages (from requests->kaggle) (2.10)\n",
            "Requirement already satisfied: chardet<4,>=3.0.2 in /usr/local/lib/python3.7/dist-packages (from requests->kaggle) (3.0.4)\n"
          ]
        }
      ]
    },
    {
      "cell_type": "markdown",
      "metadata": {
        "id": "bUiw9qd9QXia"
      },
      "source": [
        "making directory and giving permissions ."
      ]
    },
    {
      "cell_type": "code",
      "metadata": {
        "id": "SQ8ml7OMNZi7"
      },
      "source": [
        "!mkdir -p ~/.kaggle\n",
        "!cp kaggle.json ~/.kaggle/\n",
        "\n",
        "!chmod 600 ~/.kaggle/kaggle.json"
      ],
      "execution_count": 2,
      "outputs": []
    },
    {
      "cell_type": "markdown",
      "metadata": {
        "id": "niBmQql-QlDG"
      },
      "source": [
        "Now installing dataset zip file to work ."
      ]
    },
    {
      "cell_type": "code",
      "metadata": {
        "colab": {
          "base_uri": "https://localhost:8080/"
        },
        "id": "66w-XF0TNekT",
        "outputId": "c25e1498-98e3-4bba-9f58-b1aa8286a0c5"
      },
      "source": [
        "!kaggle datasets download -d gspmoreira/articles-sharing-reading-from-cit-deskdrop"
      ],
      "execution_count": 3,
      "outputs": [
        {
          "output_type": "stream",
          "name": "stdout",
          "text": [
            "Downloading articles-sharing-reading-from-cit-deskdrop.zip to /content\n",
            " 61% 5.00M/8.20M [00:00<00:00, 7.56MB/s]\n",
            "100% 8.20M/8.20M [00:00<00:00, 23.6MB/s]\n"
          ]
        }
      ]
    },
    {
      "cell_type": "markdown",
      "metadata": {
        "id": "PqXEIX5LQrqH"
      },
      "source": [
        "Listing files to check ."
      ]
    },
    {
      "cell_type": "code",
      "metadata": {
        "colab": {
          "base_uri": "https://localhost:8080/"
        },
        "id": "_LH7DfRINxtw",
        "outputId": "9f331ec0-dfc7-4587-d77f-1440cc9127b8"
      },
      "source": [
        "!ls"
      ],
      "execution_count": 4,
      "outputs": [
        {
          "output_type": "stream",
          "name": "stdout",
          "text": [
            "articles-sharing-reading-from-cit-deskdrop.zip\tkaggle.json  sample_data\n"
          ]
        }
      ]
    },
    {
      "cell_type": "markdown",
      "metadata": {
        "id": "W-cj2ZkwQven"
      },
      "source": [
        "Unzipping the zipped file to get the .csv files for working ."
      ]
    },
    {
      "cell_type": "code",
      "metadata": {
        "colab": {
          "base_uri": "https://localhost:8080/"
        },
        "id": "62dx_CvDN2PF",
        "outputId": "cae3c009-1a78-4dba-c895-69c98ebc25ba"
      },
      "source": [
        "!unzip articles-sharing-reading-from-cit-deskdrop.zip"
      ],
      "execution_count": 5,
      "outputs": [
        {
          "output_type": "stream",
          "name": "stdout",
          "text": [
            "Archive:  articles-sharing-reading-from-cit-deskdrop.zip\n",
            "  inflating: shared_articles.csv     \n",
            "  inflating: users_interactions.csv  \n"
          ]
        }
      ]
    },
    {
      "cell_type": "markdown",
      "metadata": {
        "id": "QgF7aYRSQ3Ht"
      },
      "source": [
        "Listing"
      ]
    },
    {
      "cell_type": "code",
      "metadata": {
        "colab": {
          "base_uri": "https://localhost:8080/"
        },
        "id": "NDlCMA7FODdE",
        "outputId": "86f7b75f-792d-49c4-beb9-a6d35a8c4aae"
      },
      "source": [
        "!ls"
      ],
      "execution_count": 6,
      "outputs": [
        {
          "output_type": "stream",
          "name": "stdout",
          "text": [
            "articles-sharing-reading-from-cit-deskdrop.zip\tshared_articles.csv\n",
            "kaggle.json\t\t\t\t\tusers_interactions.csv\n",
            "sample_data\n"
          ]
        }
      ]
    },
    {
      "cell_type": "markdown",
      "metadata": {
        "id": "6BEEzir1Q6Jt"
      },
      "source": [
        "**(2)** Importing dependencies and reading the csv files ."
      ]
    },
    {
      "cell_type": "code",
      "metadata": {
        "id": "BvWGth2JOH0i"
      },
      "source": [
        "import pandas as pd \n",
        "import numpy as np \n",
        "\n",
        "df1=pd.read_csv('shared_articles.csv')\n",
        "df2=pd.read_csv('users_interactions.csv')"
      ],
      "execution_count": 7,
      "outputs": []
    },
    {
      "cell_type": "markdown",
      "metadata": {
        "id": "AKxu2bnkREHa"
      },
      "source": [
        "**(3)** Checking the headers of df1 variable's csv file ."
      ]
    },
    {
      "cell_type": "code",
      "metadata": {
        "colab": {
          "base_uri": "https://localhost:8080/",
          "height": 660
        },
        "id": "cR6E4AmmOWfp",
        "outputId": "4fd48fdb-b5d5-499e-e524-e9e444098a43"
      },
      "source": [
        "df1.head()"
      ],
      "execution_count": 8,
      "outputs": [
        {
          "output_type": "execute_result",
          "data": {
            "text/html": [
              "<div>\n",
              "<style scoped>\n",
              "    .dataframe tbody tr th:only-of-type {\n",
              "        vertical-align: middle;\n",
              "    }\n",
              "\n",
              "    .dataframe tbody tr th {\n",
              "        vertical-align: top;\n",
              "    }\n",
              "\n",
              "    .dataframe thead th {\n",
              "        text-align: right;\n",
              "    }\n",
              "</style>\n",
              "<table border=\"1\" class=\"dataframe\">\n",
              "  <thead>\n",
              "    <tr style=\"text-align: right;\">\n",
              "      <th></th>\n",
              "      <th>timestamp</th>\n",
              "      <th>eventType</th>\n",
              "      <th>contentId</th>\n",
              "      <th>authorPersonId</th>\n",
              "      <th>authorSessionId</th>\n",
              "      <th>authorUserAgent</th>\n",
              "      <th>authorRegion</th>\n",
              "      <th>authorCountry</th>\n",
              "      <th>contentType</th>\n",
              "      <th>url</th>\n",
              "      <th>title</th>\n",
              "      <th>text</th>\n",
              "      <th>lang</th>\n",
              "    </tr>\n",
              "  </thead>\n",
              "  <tbody>\n",
              "    <tr>\n",
              "      <th>0</th>\n",
              "      <td>1459192779</td>\n",
              "      <td>CONTENT REMOVED</td>\n",
              "      <td>-6451309518266745024</td>\n",
              "      <td>4340306774493623681</td>\n",
              "      <td>8940341205206233829</td>\n",
              "      <td>NaN</td>\n",
              "      <td>NaN</td>\n",
              "      <td>NaN</td>\n",
              "      <td>HTML</td>\n",
              "      <td>http://www.nytimes.com/2016/03/28/business/dea...</td>\n",
              "      <td>Ethereum, a Virtual Currency, Enables Transact...</td>\n",
              "      <td>All of this work is still very early. The firs...</td>\n",
              "      <td>en</td>\n",
              "    </tr>\n",
              "    <tr>\n",
              "      <th>1</th>\n",
              "      <td>1459193988</td>\n",
              "      <td>CONTENT SHARED</td>\n",
              "      <td>-4110354420726924665</td>\n",
              "      <td>4340306774493623681</td>\n",
              "      <td>8940341205206233829</td>\n",
              "      <td>NaN</td>\n",
              "      <td>NaN</td>\n",
              "      <td>NaN</td>\n",
              "      <td>HTML</td>\n",
              "      <td>http://www.nytimes.com/2016/03/28/business/dea...</td>\n",
              "      <td>Ethereum, a Virtual Currency, Enables Transact...</td>\n",
              "      <td>All of this work is still very early. The firs...</td>\n",
              "      <td>en</td>\n",
              "    </tr>\n",
              "    <tr>\n",
              "      <th>2</th>\n",
              "      <td>1459194146</td>\n",
              "      <td>CONTENT SHARED</td>\n",
              "      <td>-7292285110016212249</td>\n",
              "      <td>4340306774493623681</td>\n",
              "      <td>8940341205206233829</td>\n",
              "      <td>NaN</td>\n",
              "      <td>NaN</td>\n",
              "      <td>NaN</td>\n",
              "      <td>HTML</td>\n",
              "      <td>http://cointelegraph.com/news/bitcoin-future-w...</td>\n",
              "      <td>Bitcoin Future: When GBPcoin of Branson Wins O...</td>\n",
              "      <td>The alarm clock wakes me at 8:00 with stream o...</td>\n",
              "      <td>en</td>\n",
              "    </tr>\n",
              "    <tr>\n",
              "      <th>3</th>\n",
              "      <td>1459194474</td>\n",
              "      <td>CONTENT SHARED</td>\n",
              "      <td>-6151852268067518688</td>\n",
              "      <td>3891637997717104548</td>\n",
              "      <td>-1457532940883382585</td>\n",
              "      <td>NaN</td>\n",
              "      <td>NaN</td>\n",
              "      <td>NaN</td>\n",
              "      <td>HTML</td>\n",
              "      <td>https://cloudplatform.googleblog.com/2016/03/G...</td>\n",
              "      <td>Google Data Center 360° Tour</td>\n",
              "      <td>We're excited to share the Google Data Center ...</td>\n",
              "      <td>en</td>\n",
              "    </tr>\n",
              "    <tr>\n",
              "      <th>4</th>\n",
              "      <td>1459194497</td>\n",
              "      <td>CONTENT SHARED</td>\n",
              "      <td>2448026894306402386</td>\n",
              "      <td>4340306774493623681</td>\n",
              "      <td>8940341205206233829</td>\n",
              "      <td>NaN</td>\n",
              "      <td>NaN</td>\n",
              "      <td>NaN</td>\n",
              "      <td>HTML</td>\n",
              "      <td>https://bitcoinmagazine.com/articles/ibm-wants...</td>\n",
              "      <td>IBM Wants to \"Evolve the Internet\" With Blockc...</td>\n",
              "      <td>The Aite Group projects the blockchain market ...</td>\n",
              "      <td>en</td>\n",
              "    </tr>\n",
              "  </tbody>\n",
              "</table>\n",
              "</div>"
            ],
            "text/plain": [
              "    timestamp  ... lang\n",
              "0  1459192779  ...   en\n",
              "1  1459193988  ...   en\n",
              "2  1459194146  ...   en\n",
              "3  1459194474  ...   en\n",
              "4  1459194497  ...   en\n",
              "\n",
              "[5 rows x 13 columns]"
            ]
          },
          "metadata": {},
          "execution_count": 8
        }
      ]
    },
    {
      "cell_type": "markdown",
      "metadata": {
        "id": "41VsKmklRRv5"
      },
      "source": [
        "**(3)** Checking the headers of df2 variable's csv file ."
      ]
    },
    {
      "cell_type": "code",
      "metadata": {
        "colab": {
          "base_uri": "https://localhost:8080/",
          "height": 223
        },
        "id": "65ES5fXPObYY",
        "outputId": "ad3d38ea-327b-4968-bd8b-57b55aa39bad"
      },
      "source": [
        "df2.head()"
      ],
      "execution_count": 9,
      "outputs": [
        {
          "output_type": "execute_result",
          "data": {
            "text/html": [
              "<div>\n",
              "<style scoped>\n",
              "    .dataframe tbody tr th:only-of-type {\n",
              "        vertical-align: middle;\n",
              "    }\n",
              "\n",
              "    .dataframe tbody tr th {\n",
              "        vertical-align: top;\n",
              "    }\n",
              "\n",
              "    .dataframe thead th {\n",
              "        text-align: right;\n",
              "    }\n",
              "</style>\n",
              "<table border=\"1\" class=\"dataframe\">\n",
              "  <thead>\n",
              "    <tr style=\"text-align: right;\">\n",
              "      <th></th>\n",
              "      <th>timestamp</th>\n",
              "      <th>eventType</th>\n",
              "      <th>contentId</th>\n",
              "      <th>personId</th>\n",
              "      <th>sessionId</th>\n",
              "      <th>userAgent</th>\n",
              "      <th>userRegion</th>\n",
              "      <th>userCountry</th>\n",
              "    </tr>\n",
              "  </thead>\n",
              "  <tbody>\n",
              "    <tr>\n",
              "      <th>0</th>\n",
              "      <td>1465413032</td>\n",
              "      <td>VIEW</td>\n",
              "      <td>-3499919498720038879</td>\n",
              "      <td>-8845298781299428018</td>\n",
              "      <td>1264196770339959068</td>\n",
              "      <td>NaN</td>\n",
              "      <td>NaN</td>\n",
              "      <td>NaN</td>\n",
              "    </tr>\n",
              "    <tr>\n",
              "      <th>1</th>\n",
              "      <td>1465412560</td>\n",
              "      <td>VIEW</td>\n",
              "      <td>8890720798209849691</td>\n",
              "      <td>-1032019229384696495</td>\n",
              "      <td>3621737643587579081</td>\n",
              "      <td>Mozilla/5.0 (Macintosh; Intel Mac OS X 10_11_2...</td>\n",
              "      <td>NY</td>\n",
              "      <td>US</td>\n",
              "    </tr>\n",
              "    <tr>\n",
              "      <th>2</th>\n",
              "      <td>1465416190</td>\n",
              "      <td>VIEW</td>\n",
              "      <td>310515487419366995</td>\n",
              "      <td>-1130272294246983140</td>\n",
              "      <td>2631864456530402479</td>\n",
              "      <td>NaN</td>\n",
              "      <td>NaN</td>\n",
              "      <td>NaN</td>\n",
              "    </tr>\n",
              "    <tr>\n",
              "      <th>3</th>\n",
              "      <td>1465413895</td>\n",
              "      <td>FOLLOW</td>\n",
              "      <td>310515487419366995</td>\n",
              "      <td>344280948527967603</td>\n",
              "      <td>-3167637573980064150</td>\n",
              "      <td>NaN</td>\n",
              "      <td>NaN</td>\n",
              "      <td>NaN</td>\n",
              "    </tr>\n",
              "    <tr>\n",
              "      <th>4</th>\n",
              "      <td>1465412290</td>\n",
              "      <td>VIEW</td>\n",
              "      <td>-7820640624231356730</td>\n",
              "      <td>-445337111692715325</td>\n",
              "      <td>5611481178424124714</td>\n",
              "      <td>NaN</td>\n",
              "      <td>NaN</td>\n",
              "      <td>NaN</td>\n",
              "    </tr>\n",
              "  </tbody>\n",
              "</table>\n",
              "</div>"
            ],
            "text/plain": [
              "    timestamp eventType  ...  userRegion  userCountry\n",
              "0  1465413032      VIEW  ...         NaN          NaN\n",
              "1  1465412560      VIEW  ...          NY           US\n",
              "2  1465416190      VIEW  ...         NaN          NaN\n",
              "3  1465413895    FOLLOW  ...         NaN          NaN\n",
              "4  1465412290      VIEW  ...         NaN          NaN\n",
              "\n",
              "[5 rows x 8 columns]"
            ]
          },
          "metadata": {},
          "execution_count": 9
        }
      ]
    },
    {
      "cell_type": "markdown",
      "metadata": {
        "id": "iIq3c54mJwdl"
      },
      "source": [
        "####***PART - B (2) Demographic filtering***\n",
        "\n",
        "*Now , we are going to understand the data that we got in the last project (article’s data), analyse it and then perform demographic filtering on it!*\n",
        "\n",
        "\n",
        "######**Demographic Filtering (DF) technique uses the demographic data of a user to determine which items may be appropriate for recommendation.**######"
      ]
    },
    {
      "cell_type": "code",
      "metadata": {
        "id": "DyaqTelKPE3Q",
        "colab": {
          "base_uri": "https://localhost:8080/",
          "height": 642
        },
        "outputId": "187ec246-eb94-4365-b31a-e11d55dc693c"
      },
      "source": [
        "df1 = df1[df1['eventType'] == 'CONTENT SHARED']\n",
        "df1.head()"
      ],
      "execution_count": 10,
      "outputs": [
        {
          "output_type": "execute_result",
          "data": {
            "text/html": [
              "<div>\n",
              "<style scoped>\n",
              "    .dataframe tbody tr th:only-of-type {\n",
              "        vertical-align: middle;\n",
              "    }\n",
              "\n",
              "    .dataframe tbody tr th {\n",
              "        vertical-align: top;\n",
              "    }\n",
              "\n",
              "    .dataframe thead th {\n",
              "        text-align: right;\n",
              "    }\n",
              "</style>\n",
              "<table border=\"1\" class=\"dataframe\">\n",
              "  <thead>\n",
              "    <tr style=\"text-align: right;\">\n",
              "      <th></th>\n",
              "      <th>timestamp</th>\n",
              "      <th>eventType</th>\n",
              "      <th>contentId</th>\n",
              "      <th>authorPersonId</th>\n",
              "      <th>authorSessionId</th>\n",
              "      <th>authorUserAgent</th>\n",
              "      <th>authorRegion</th>\n",
              "      <th>authorCountry</th>\n",
              "      <th>contentType</th>\n",
              "      <th>url</th>\n",
              "      <th>title</th>\n",
              "      <th>text</th>\n",
              "      <th>lang</th>\n",
              "    </tr>\n",
              "  </thead>\n",
              "  <tbody>\n",
              "    <tr>\n",
              "      <th>1</th>\n",
              "      <td>1459193988</td>\n",
              "      <td>CONTENT SHARED</td>\n",
              "      <td>-4110354420726924665</td>\n",
              "      <td>4340306774493623681</td>\n",
              "      <td>8940341205206233829</td>\n",
              "      <td>NaN</td>\n",
              "      <td>NaN</td>\n",
              "      <td>NaN</td>\n",
              "      <td>HTML</td>\n",
              "      <td>http://www.nytimes.com/2016/03/28/business/dea...</td>\n",
              "      <td>Ethereum, a Virtual Currency, Enables Transact...</td>\n",
              "      <td>All of this work is still very early. The firs...</td>\n",
              "      <td>en</td>\n",
              "    </tr>\n",
              "    <tr>\n",
              "      <th>2</th>\n",
              "      <td>1459194146</td>\n",
              "      <td>CONTENT SHARED</td>\n",
              "      <td>-7292285110016212249</td>\n",
              "      <td>4340306774493623681</td>\n",
              "      <td>8940341205206233829</td>\n",
              "      <td>NaN</td>\n",
              "      <td>NaN</td>\n",
              "      <td>NaN</td>\n",
              "      <td>HTML</td>\n",
              "      <td>http://cointelegraph.com/news/bitcoin-future-w...</td>\n",
              "      <td>Bitcoin Future: When GBPcoin of Branson Wins O...</td>\n",
              "      <td>The alarm clock wakes me at 8:00 with stream o...</td>\n",
              "      <td>en</td>\n",
              "    </tr>\n",
              "    <tr>\n",
              "      <th>3</th>\n",
              "      <td>1459194474</td>\n",
              "      <td>CONTENT SHARED</td>\n",
              "      <td>-6151852268067518688</td>\n",
              "      <td>3891637997717104548</td>\n",
              "      <td>-1457532940883382585</td>\n",
              "      <td>NaN</td>\n",
              "      <td>NaN</td>\n",
              "      <td>NaN</td>\n",
              "      <td>HTML</td>\n",
              "      <td>https://cloudplatform.googleblog.com/2016/03/G...</td>\n",
              "      <td>Google Data Center 360° Tour</td>\n",
              "      <td>We're excited to share the Google Data Center ...</td>\n",
              "      <td>en</td>\n",
              "    </tr>\n",
              "    <tr>\n",
              "      <th>4</th>\n",
              "      <td>1459194497</td>\n",
              "      <td>CONTENT SHARED</td>\n",
              "      <td>2448026894306402386</td>\n",
              "      <td>4340306774493623681</td>\n",
              "      <td>8940341205206233829</td>\n",
              "      <td>NaN</td>\n",
              "      <td>NaN</td>\n",
              "      <td>NaN</td>\n",
              "      <td>HTML</td>\n",
              "      <td>https://bitcoinmagazine.com/articles/ibm-wants...</td>\n",
              "      <td>IBM Wants to \"Evolve the Internet\" With Blockc...</td>\n",
              "      <td>The Aite Group projects the blockchain market ...</td>\n",
              "      <td>en</td>\n",
              "    </tr>\n",
              "    <tr>\n",
              "      <th>5</th>\n",
              "      <td>1459194522</td>\n",
              "      <td>CONTENT SHARED</td>\n",
              "      <td>-2826566343807132236</td>\n",
              "      <td>4340306774493623681</td>\n",
              "      <td>8940341205206233829</td>\n",
              "      <td>NaN</td>\n",
              "      <td>NaN</td>\n",
              "      <td>NaN</td>\n",
              "      <td>HTML</td>\n",
              "      <td>http://www.coindesk.com/ieee-blockchain-oxford...</td>\n",
              "      <td>IEEE to Talk Blockchain at Cloud Computing Oxf...</td>\n",
              "      <td>One of the largest and oldest organizations fo...</td>\n",
              "      <td>en</td>\n",
              "    </tr>\n",
              "  </tbody>\n",
              "</table>\n",
              "</div>"
            ],
            "text/plain": [
              "    timestamp  ... lang\n",
              "1  1459193988  ...   en\n",
              "2  1459194146  ...   en\n",
              "3  1459194474  ...   en\n",
              "4  1459194497  ...   en\n",
              "5  1459194522  ...   en\n",
              "\n",
              "[5 rows x 13 columns]"
            ]
          },
          "metadata": {},
          "execution_count": 10
        }
      ]
    },
    {
      "cell_type": "code",
      "metadata": {
        "colab": {
          "base_uri": "https://localhost:8080/"
        },
        "id": "onMW-GbgLfN4",
        "outputId": "f92c1eb7-b2ca-49c6-cfd8-378151f3c324"
      },
      "source": [
        "df2.shape"
      ],
      "execution_count": 11,
      "outputs": [
        {
          "output_type": "execute_result",
          "data": {
            "text/plain": [
              "(72312, 8)"
            ]
          },
          "metadata": {},
          "execution_count": 11
        }
      ]
    },
    {
      "cell_type": "code",
      "metadata": {
        "colab": {
          "base_uri": "https://localhost:8080/"
        },
        "id": "9HcI4-DHMGPu",
        "outputId": "06a71c87-f60c-4ffa-cca0-87ff13a84a10"
      },
      "source": [
        "df1.shape"
      ],
      "execution_count": 12,
      "outputs": [
        {
          "output_type": "execute_result",
          "data": {
            "text/plain": [
              "(3047, 13)"
            ]
          },
          "metadata": {},
          "execution_count": 12
        }
      ]
    },
    {
      "cell_type": "code",
      "metadata": {
        "colab": {
          "base_uri": "https://localhost:8080/",
          "height": 642
        },
        "id": "5vPq9xjvNy0E",
        "outputId": "41fb2a71-0daf-436a-acd0-ac3184fe2284"
      },
      "source": [
        "def find_total_events(df1_row):\n",
        "  total_likes = df2[(df2[\"contentId\"] == df1_row[\"contentId\"]) & (df2[\"eventType\"] == \"LIKE\")].shape[0]\n",
        "  total_views = df2[(df2[\"contentId\"] == df1_row[\"contentId\"]) & (df2[\"eventType\"] == \"VIEW\")].shape[0]\n",
        "  total_bookmarks = df2[(df2[\"contentId\"] == df1_row[\"contentId\"]) & (df2[\"eventType\"] == \"BOOKMARK\")].shape[0]\n",
        "  total_follows = df2[(df2[\"contentId\"] == df1_row[\"contentId\"]) & (df2[\"eventType\"] == \"FOLLOW\")].shape[0]\n",
        "  total_comments = df2[(df2[\"contentId\"] == df1_row[\"contentId\"]) & (df2[\"eventType\"] == \"COMMENT CREATED\")].shape[0]\n",
        "  return total_likes + total_views + total_bookmarks + total_follows + total_comments\n",
        "\n",
        "df1[\"total_events\"] = df1.apply(find_total_events, axis=1)\n",
        "\n",
        "df1.head()"
      ],
      "execution_count": 13,
      "outputs": [
        {
          "output_type": "execute_result",
          "data": {
            "text/html": [
              "<div>\n",
              "<style scoped>\n",
              "    .dataframe tbody tr th:only-of-type {\n",
              "        vertical-align: middle;\n",
              "    }\n",
              "\n",
              "    .dataframe tbody tr th {\n",
              "        vertical-align: top;\n",
              "    }\n",
              "\n",
              "    .dataframe thead th {\n",
              "        text-align: right;\n",
              "    }\n",
              "</style>\n",
              "<table border=\"1\" class=\"dataframe\">\n",
              "  <thead>\n",
              "    <tr style=\"text-align: right;\">\n",
              "      <th></th>\n",
              "      <th>timestamp</th>\n",
              "      <th>eventType</th>\n",
              "      <th>contentId</th>\n",
              "      <th>authorPersonId</th>\n",
              "      <th>authorSessionId</th>\n",
              "      <th>authorUserAgent</th>\n",
              "      <th>authorRegion</th>\n",
              "      <th>authorCountry</th>\n",
              "      <th>contentType</th>\n",
              "      <th>url</th>\n",
              "      <th>title</th>\n",
              "      <th>text</th>\n",
              "      <th>lang</th>\n",
              "      <th>total_events</th>\n",
              "    </tr>\n",
              "  </thead>\n",
              "  <tbody>\n",
              "    <tr>\n",
              "      <th>1</th>\n",
              "      <td>1459193988</td>\n",
              "      <td>CONTENT SHARED</td>\n",
              "      <td>-4110354420726924665</td>\n",
              "      <td>4340306774493623681</td>\n",
              "      <td>8940341205206233829</td>\n",
              "      <td>NaN</td>\n",
              "      <td>NaN</td>\n",
              "      <td>NaN</td>\n",
              "      <td>HTML</td>\n",
              "      <td>http://www.nytimes.com/2016/03/28/business/dea...</td>\n",
              "      <td>Ethereum, a Virtual Currency, Enables Transact...</td>\n",
              "      <td>All of this work is still very early. The firs...</td>\n",
              "      <td>en</td>\n",
              "      <td>1</td>\n",
              "    </tr>\n",
              "    <tr>\n",
              "      <th>2</th>\n",
              "      <td>1459194146</td>\n",
              "      <td>CONTENT SHARED</td>\n",
              "      <td>-7292285110016212249</td>\n",
              "      <td>4340306774493623681</td>\n",
              "      <td>8940341205206233829</td>\n",
              "      <td>NaN</td>\n",
              "      <td>NaN</td>\n",
              "      <td>NaN</td>\n",
              "      <td>HTML</td>\n",
              "      <td>http://cointelegraph.com/news/bitcoin-future-w...</td>\n",
              "      <td>Bitcoin Future: When GBPcoin of Branson Wins O...</td>\n",
              "      <td>The alarm clock wakes me at 8:00 with stream o...</td>\n",
              "      <td>en</td>\n",
              "      <td>1</td>\n",
              "    </tr>\n",
              "    <tr>\n",
              "      <th>3</th>\n",
              "      <td>1459194474</td>\n",
              "      <td>CONTENT SHARED</td>\n",
              "      <td>-6151852268067518688</td>\n",
              "      <td>3891637997717104548</td>\n",
              "      <td>-1457532940883382585</td>\n",
              "      <td>NaN</td>\n",
              "      <td>NaN</td>\n",
              "      <td>NaN</td>\n",
              "      <td>HTML</td>\n",
              "      <td>https://cloudplatform.googleblog.com/2016/03/G...</td>\n",
              "      <td>Google Data Center 360° Tour</td>\n",
              "      <td>We're excited to share the Google Data Center ...</td>\n",
              "      <td>en</td>\n",
              "      <td>13</td>\n",
              "    </tr>\n",
              "    <tr>\n",
              "      <th>4</th>\n",
              "      <td>1459194497</td>\n",
              "      <td>CONTENT SHARED</td>\n",
              "      <td>2448026894306402386</td>\n",
              "      <td>4340306774493623681</td>\n",
              "      <td>8940341205206233829</td>\n",
              "      <td>NaN</td>\n",
              "      <td>NaN</td>\n",
              "      <td>NaN</td>\n",
              "      <td>HTML</td>\n",
              "      <td>https://bitcoinmagazine.com/articles/ibm-wants...</td>\n",
              "      <td>IBM Wants to \"Evolve the Internet\" With Blockc...</td>\n",
              "      <td>The Aite Group projects the blockchain market ...</td>\n",
              "      <td>en</td>\n",
              "      <td>0</td>\n",
              "    </tr>\n",
              "    <tr>\n",
              "      <th>5</th>\n",
              "      <td>1459194522</td>\n",
              "      <td>CONTENT SHARED</td>\n",
              "      <td>-2826566343807132236</td>\n",
              "      <td>4340306774493623681</td>\n",
              "      <td>8940341205206233829</td>\n",
              "      <td>NaN</td>\n",
              "      <td>NaN</td>\n",
              "      <td>NaN</td>\n",
              "      <td>HTML</td>\n",
              "      <td>http://www.coindesk.com/ieee-blockchain-oxford...</td>\n",
              "      <td>IEEE to Talk Blockchain at Cloud Computing Oxf...</td>\n",
              "      <td>One of the largest and oldest organizations fo...</td>\n",
              "      <td>en</td>\n",
              "      <td>2</td>\n",
              "    </tr>\n",
              "  </tbody>\n",
              "</table>\n",
              "</div>"
            ],
            "text/plain": [
              "    timestamp       eventType  ...  lang  total_events\n",
              "1  1459193988  CONTENT SHARED  ...    en             1\n",
              "2  1459194146  CONTENT SHARED  ...    en             1\n",
              "3  1459194474  CONTENT SHARED  ...    en            13\n",
              "4  1459194497  CONTENT SHARED  ...    en             0\n",
              "5  1459194522  CONTENT SHARED  ...    en             2\n",
              "\n",
              "[5 rows x 14 columns]"
            ]
          },
          "metadata": {},
          "execution_count": 13
        }
      ]
    },
    {
      "cell_type": "code",
      "metadata": {
        "colab": {
          "base_uri": "https://localhost:8080/",
          "height": 608
        },
        "id": "pH7ViINEOJ5y",
        "outputId": "1bda4336-fc59-4470-e66f-439de885de52"
      },
      "source": [
        "df1 = df1.sort_values(['total_events'], ascending=[False])\n",
        "\n",
        "df1.head()"
      ],
      "execution_count": 14,
      "outputs": [
        {
          "output_type": "execute_result",
          "data": {
            "text/html": [
              "<div>\n",
              "<style scoped>\n",
              "    .dataframe tbody tr th:only-of-type {\n",
              "        vertical-align: middle;\n",
              "    }\n",
              "\n",
              "    .dataframe tbody tr th {\n",
              "        vertical-align: top;\n",
              "    }\n",
              "\n",
              "    .dataframe thead th {\n",
              "        text-align: right;\n",
              "    }\n",
              "</style>\n",
              "<table border=\"1\" class=\"dataframe\">\n",
              "  <thead>\n",
              "    <tr style=\"text-align: right;\">\n",
              "      <th></th>\n",
              "      <th>timestamp</th>\n",
              "      <th>eventType</th>\n",
              "      <th>contentId</th>\n",
              "      <th>authorPersonId</th>\n",
              "      <th>authorSessionId</th>\n",
              "      <th>authorUserAgent</th>\n",
              "      <th>authorRegion</th>\n",
              "      <th>authorCountry</th>\n",
              "      <th>contentType</th>\n",
              "      <th>url</th>\n",
              "      <th>title</th>\n",
              "      <th>text</th>\n",
              "      <th>lang</th>\n",
              "      <th>total_events</th>\n",
              "    </tr>\n",
              "  </thead>\n",
              "  <tbody>\n",
              "    <tr>\n",
              "      <th>3096</th>\n",
              "      <td>1487246811</td>\n",
              "      <td>CONTENT SHARED</td>\n",
              "      <td>-4029704725707465084</td>\n",
              "      <td>6013226412048763966</td>\n",
              "      <td>-6569695881431984742</td>\n",
              "      <td>Mozilla/5.0 (Windows NT 10.0; Win64; x64) Appl...</td>\n",
              "      <td>SP</td>\n",
              "      <td>BR</td>\n",
              "      <td>HTML</td>\n",
              "      <td>http://www.cnbc.com/2016/12/21/former-google-c...</td>\n",
              "      <td>Former Google career coach shares a visual tri...</td>\n",
              "      <td>If you want 2017 to be an exciting year, desig...</td>\n",
              "      <td>en</td>\n",
              "      <td>433</td>\n",
              "    </tr>\n",
              "    <tr>\n",
              "      <th>1671</th>\n",
              "      <td>1467813728</td>\n",
              "      <td>CONTENT SHARED</td>\n",
              "      <td>-133139342397538859</td>\n",
              "      <td>4918484843075254252</td>\n",
              "      <td>-5701227433817087697</td>\n",
              "      <td>NaN</td>\n",
              "      <td>NaN</td>\n",
              "      <td>NaN</td>\n",
              "      <td>HTML</td>\n",
              "      <td>http://gq.globo.com/Prazeres/Poder/Carreira/no...</td>\n",
              "      <td>Novo workaholic trabalha, pratica esportes e t...</td>\n",
              "      <td>Novo workaholic não abre mão do esporte e da f...</td>\n",
              "      <td>pt</td>\n",
              "      <td>315</td>\n",
              "    </tr>\n",
              "    <tr>\n",
              "      <th>1814</th>\n",
              "      <td>1468867647</td>\n",
              "      <td>CONTENT SHARED</td>\n",
              "      <td>-6783772548752091658</td>\n",
              "      <td>4918484843075254252</td>\n",
              "      <td>-8995217520473210153</td>\n",
              "      <td>NaN</td>\n",
              "      <td>NaN</td>\n",
              "      <td>NaN</td>\n",
              "      <td>HTML</td>\n",
              "      <td>http://www.caroli.org/livro-retrospectivas-div...</td>\n",
              "      <td>Livro: Retrospectivas Divertidas</td>\n",
              "      <td>Neste livro, nós fornecemos um conjunto de fer...</td>\n",
              "      <td>pt</td>\n",
              "      <td>294</td>\n",
              "    </tr>\n",
              "    <tr>\n",
              "      <th>1317</th>\n",
              "      <td>1465484901</td>\n",
              "      <td>CONTENT SHARED</td>\n",
              "      <td>8657408509986329668</td>\n",
              "      <td>-8020832670974472349</td>\n",
              "      <td>838596071610016700</td>\n",
              "      <td>NaN</td>\n",
              "      <td>NaN</td>\n",
              "      <td>NaN</td>\n",
              "      <td>HTML</td>\n",
              "      <td>https://medium.com/practical-blend/pull-reques...</td>\n",
              "      <td>Pull request first - Practical Blend</td>\n",
              "      <td>Pull request first After two years of working ...</td>\n",
              "      <td>en</td>\n",
              "      <td>294</td>\n",
              "    </tr>\n",
              "    <tr>\n",
              "      <th>588</th>\n",
              "      <td>1461629452</td>\n",
              "      <td>CONTENT SHARED</td>\n",
              "      <td>-6843047699859121724</td>\n",
              "      <td>7527226129639571966</td>\n",
              "      <td>-1297230017812472163</td>\n",
              "      <td>NaN</td>\n",
              "      <td>NaN</td>\n",
              "      <td>NaN</td>\n",
              "      <td>HTML</td>\n",
              "      <td>https://medium.com/@jeffersoncn/ganhe-6-meses-...</td>\n",
              "      <td>Ganhe 6 meses de acesso ao Pluralsight, maior ...</td>\n",
              "      <td>Ganhe 6 meses de acesso ao Pluralsight, maior ...</td>\n",
              "      <td>pt</td>\n",
              "      <td>281</td>\n",
              "    </tr>\n",
              "  </tbody>\n",
              "</table>\n",
              "</div>"
            ],
            "text/plain": [
              "       timestamp       eventType  ...  lang  total_events\n",
              "3096  1487246811  CONTENT SHARED  ...    en           433\n",
              "1671  1467813728  CONTENT SHARED  ...    pt           315\n",
              "1814  1468867647  CONTENT SHARED  ...    pt           294\n",
              "1317  1465484901  CONTENT SHARED  ...    en           294\n",
              "588   1461629452  CONTENT SHARED  ...    pt           281\n",
              "\n",
              "[5 rows x 14 columns]"
            ]
          },
          "metadata": {},
          "execution_count": 14
        }
      ]
    },
    {
      "cell_type": "markdown",
      "metadata": {
        "id": "IWAHIznvVfRW"
      },
      "source": [
        "####**PART - C**\n",
        "\n",
        "#####*Content based filtering*\n",
        "\n",
        "WHAT IS CONTENT BASED FILTERING ?\n",
        "\n",
        "**[ Ans ] :--** *Content-based filtering is a type of recommender system that attempts to guess what a user may like based on that user's activity. Content-based filtering makes recommendations by using keywords and attributes assigned to objects in a database (e.g., items in an online marketplace) and matching them to a user profile.*\n",
        "\n",
        "*..src=www.upwork.com*\n",
        "\n",
        "Codes by : satvik"
      ]
    },
    {
      "cell_type": "code",
      "metadata": {
        "id": "Fb6w3SL-WGE4"
      },
      "source": [
        "#df1[['title', 'contentType', 'url', 'text', 'lang','contentId']].head(3) \t\t\t"
      ],
      "execution_count": 29,
      "outputs": []
    },
    {
      "cell_type": "code",
      "metadata": {
        "colab": {
          "base_uri": "https://localhost:8080/",
          "height": 608
        },
        "id": "8-0j5t1cXdmQ",
        "outputId": "2251b27a-4db4-439d-c94a-afa287cfddcf"
      },
      "source": [
        "def convert_lowercase(x):\n",
        "  if isinstance(x, str):\n",
        "      return x.lower()\n",
        "  else:\n",
        "      return ''\n",
        "\n",
        "df1[\"title\"] = df1[\"title\"].apply(convert_lowercase)\n",
        "\n",
        "df1.head()"
      ],
      "execution_count": 28,
      "outputs": [
        {
          "output_type": "execute_result",
          "data": {
            "text/html": [
              "<div>\n",
              "<style scoped>\n",
              "    .dataframe tbody tr th:only-of-type {\n",
              "        vertical-align: middle;\n",
              "    }\n",
              "\n",
              "    .dataframe tbody tr th {\n",
              "        vertical-align: top;\n",
              "    }\n",
              "\n",
              "    .dataframe thead th {\n",
              "        text-align: right;\n",
              "    }\n",
              "</style>\n",
              "<table border=\"1\" class=\"dataframe\">\n",
              "  <thead>\n",
              "    <tr style=\"text-align: right;\">\n",
              "      <th></th>\n",
              "      <th>timestamp</th>\n",
              "      <th>eventType</th>\n",
              "      <th>contentId</th>\n",
              "      <th>authorPersonId</th>\n",
              "      <th>authorSessionId</th>\n",
              "      <th>authorUserAgent</th>\n",
              "      <th>authorRegion</th>\n",
              "      <th>authorCountry</th>\n",
              "      <th>contentType</th>\n",
              "      <th>url</th>\n",
              "      <th>title</th>\n",
              "      <th>text</th>\n",
              "      <th>lang</th>\n",
              "      <th>total_events</th>\n",
              "    </tr>\n",
              "  </thead>\n",
              "  <tbody>\n",
              "    <tr>\n",
              "      <th>3096</th>\n",
              "      <td>1487246811</td>\n",
              "      <td>CONTENT SHARED</td>\n",
              "      <td>-4029704725707465084</td>\n",
              "      <td>6013226412048763966</td>\n",
              "      <td>-6569695881431984742</td>\n",
              "      <td>Mozilla/5.0 (Windows NT 10.0; Win64; x64) Appl...</td>\n",
              "      <td>SP</td>\n",
              "      <td>BR</td>\n",
              "      <td>HTML</td>\n",
              "      <td>http://www.cnbc.com/2016/12/21/former-google-c...</td>\n",
              "      <td>former google career coach shares a visual tri...</td>\n",
              "      <td>If you want 2017 to be an exciting year, desig...</td>\n",
              "      <td>en</td>\n",
              "      <td>433</td>\n",
              "    </tr>\n",
              "    <tr>\n",
              "      <th>1671</th>\n",
              "      <td>1467813728</td>\n",
              "      <td>CONTENT SHARED</td>\n",
              "      <td>-133139342397538859</td>\n",
              "      <td>4918484843075254252</td>\n",
              "      <td>-5701227433817087697</td>\n",
              "      <td>NaN</td>\n",
              "      <td>NaN</td>\n",
              "      <td>NaN</td>\n",
              "      <td>HTML</td>\n",
              "      <td>http://gq.globo.com/Prazeres/Poder/Carreira/no...</td>\n",
              "      <td>novo workaholic trabalha, pratica esportes e t...</td>\n",
              "      <td>Novo workaholic não abre mão do esporte e da f...</td>\n",
              "      <td>pt</td>\n",
              "      <td>315</td>\n",
              "    </tr>\n",
              "    <tr>\n",
              "      <th>1814</th>\n",
              "      <td>1468867647</td>\n",
              "      <td>CONTENT SHARED</td>\n",
              "      <td>-6783772548752091658</td>\n",
              "      <td>4918484843075254252</td>\n",
              "      <td>-8995217520473210153</td>\n",
              "      <td>NaN</td>\n",
              "      <td>NaN</td>\n",
              "      <td>NaN</td>\n",
              "      <td>HTML</td>\n",
              "      <td>http://www.caroli.org/livro-retrospectivas-div...</td>\n",
              "      <td>livro: retrospectivas divertidas</td>\n",
              "      <td>Neste livro, nós fornecemos um conjunto de fer...</td>\n",
              "      <td>pt</td>\n",
              "      <td>294</td>\n",
              "    </tr>\n",
              "    <tr>\n",
              "      <th>1317</th>\n",
              "      <td>1465484901</td>\n",
              "      <td>CONTENT SHARED</td>\n",
              "      <td>8657408509986329668</td>\n",
              "      <td>-8020832670974472349</td>\n",
              "      <td>838596071610016700</td>\n",
              "      <td>NaN</td>\n",
              "      <td>NaN</td>\n",
              "      <td>NaN</td>\n",
              "      <td>HTML</td>\n",
              "      <td>https://medium.com/practical-blend/pull-reques...</td>\n",
              "      <td>pull request first - practical blend</td>\n",
              "      <td>Pull request first After two years of working ...</td>\n",
              "      <td>en</td>\n",
              "      <td>294</td>\n",
              "    </tr>\n",
              "    <tr>\n",
              "      <th>588</th>\n",
              "      <td>1461629452</td>\n",
              "      <td>CONTENT SHARED</td>\n",
              "      <td>-6843047699859121724</td>\n",
              "      <td>7527226129639571966</td>\n",
              "      <td>-1297230017812472163</td>\n",
              "      <td>NaN</td>\n",
              "      <td>NaN</td>\n",
              "      <td>NaN</td>\n",
              "      <td>HTML</td>\n",
              "      <td>https://medium.com/@jeffersoncn/ganhe-6-meses-...</td>\n",
              "      <td>ganhe 6 meses de acesso ao pluralsight, maior ...</td>\n",
              "      <td>Ganhe 6 meses de acesso ao Pluralsight, maior ...</td>\n",
              "      <td>pt</td>\n",
              "      <td>281</td>\n",
              "    </tr>\n",
              "  </tbody>\n",
              "</table>\n",
              "</div>"
            ],
            "text/plain": [
              "       timestamp       eventType  ...  lang  total_events\n",
              "3096  1487246811  CONTENT SHARED  ...    en           433\n",
              "1671  1467813728  CONTENT SHARED  ...    pt           315\n",
              "1814  1468867647  CONTENT SHARED  ...    pt           294\n",
              "1317  1465484901  CONTENT SHARED  ...    en           294\n",
              "588   1461629452  CONTENT SHARED  ...    pt           281\n",
              "\n",
              "[5 rows x 14 columns]"
            ]
          },
          "metadata": {},
          "execution_count": 28
        }
      ]
    },
    {
      "cell_type": "code",
      "metadata": {
        "id": "G0Plu-NcXk-w"
      },
      "source": [
        "from sklearn.feature_extraction.text import CountVectorizer\n",
        "count = CountVectorizer(stop_words='english')\n",
        "count_matrix = count.fit_transform(df1['title'])"
      ],
      "execution_count": 30,
      "outputs": []
    },
    {
      "cell_type": "code",
      "metadata": {
        "id": "uXomo1Jmo0Ow"
      },
      "source": [
        "from sklearn.metrics.pairwise import cosine_similarity\n",
        "cosine_sim2 = cosine_similarity(count_matrix, count_matrix)"
      ],
      "execution_count": 31,
      "outputs": []
    },
    {
      "cell_type": "code",
      "metadata": {
        "id": "XlkiQQ3_o3cM"
      },
      "source": [
        "df1 = df1.reset_index()\n",
        "indices = pd.Series(df1.index, index=df1['contentId'])"
      ],
      "execution_count": 32,
      "outputs": []
    },
    {
      "cell_type": "code",
      "metadata": {
        "id": "9RPM-fxGo8tp"
      },
      "source": [
        "def get_recommendations(contentId, cosine_sim):\n",
        "    idx = indices[contentId]\n",
        "    sim_scores = list(enumerate(cosine_sim[idx]))\n",
        "    sim_scores = sorted(sim_scores, key=lambda x: x[1], reverse=True)\n",
        "    sim_scores = sim_scores[1:11]\n",
        "    movie_indices = [i[0] for i in sim_scores]\n",
        "    return df1['contentId'].iloc[movie_indices]"
      ],
      "execution_count": 33,
      "outputs": []
    },
    {
      "cell_type": "code",
      "metadata": {
        "colab": {
          "base_uri": "https://localhost:8080/"
        },
        "id": "IMUVNx-XpAie",
        "outputId": "6f06b4a0-68a9-4b05-f82f-e2f7314b5939"
      },
      "source": [
        "get_recommendations(-7292285110016212249, cosine_sim2)"
      ],
      "execution_count": 36,
      "outputs": [
        {
          "output_type": "execute_result",
          "data": {
            "text/plain": [
              "286    -7986975759046428357\n",
              "885     -724699218170106849\n",
              "1989    7372398343609401828\n",
              "1873    8084284001249507595\n",
              "149     2727743992157210358\n",
              "215     1436883058900979473\n",
              "695    -6778286518036232293\n",
              "959    -6195775145989617417\n",
              "1254    5304344058087060692\n",
              "2817   -7926018713416777892\n",
              "Name: contentId, dtype: int64"
            ]
          },
          "metadata": {},
          "execution_count": 36
        }
      ]
    },
    {
      "cell_type": "code",
      "metadata": {
        "colab": {
          "base_uri": "https://localhost:8080/",
          "height": 17
        },
        "id": "eIKI_MfiqILu",
        "outputId": "a5e73026-83b2-4605-f261-f9c9f01170c2"
      },
      "source": [
        "from google.colab import files\n",
        "\n",
        "df1.to_csv('data.csv')\n",
        "files.download('data.csv')"
      ],
      "execution_count": 37,
      "outputs": [
        {
          "output_type": "display_data",
          "data": {
            "application/javascript": [
              "\n",
              "    async function download(id, filename, size) {\n",
              "      if (!google.colab.kernel.accessAllowed) {\n",
              "        return;\n",
              "      }\n",
              "      const div = document.createElement('div');\n",
              "      const label = document.createElement('label');\n",
              "      label.textContent = `Downloading \"${filename}\": `;\n",
              "      div.appendChild(label);\n",
              "      const progress = document.createElement('progress');\n",
              "      progress.max = size;\n",
              "      div.appendChild(progress);\n",
              "      document.body.appendChild(div);\n",
              "\n",
              "      const buffers = [];\n",
              "      let downloaded = 0;\n",
              "\n",
              "      const channel = await google.colab.kernel.comms.open(id);\n",
              "      // Send a message to notify the kernel that we're ready.\n",
              "      channel.send({})\n",
              "\n",
              "      for await (const message of channel.messages) {\n",
              "        // Send a message to notify the kernel that we're ready.\n",
              "        channel.send({})\n",
              "        if (message.buffers) {\n",
              "          for (const buffer of message.buffers) {\n",
              "            buffers.push(buffer);\n",
              "            downloaded += buffer.byteLength;\n",
              "            progress.value = downloaded;\n",
              "          }\n",
              "        }\n",
              "      }\n",
              "      const blob = new Blob(buffers, {type: 'application/binary'});\n",
              "      const a = document.createElement('a');\n",
              "      a.href = window.URL.createObjectURL(blob);\n",
              "      a.download = filename;\n",
              "      div.appendChild(a);\n",
              "      a.click();\n",
              "      div.remove();\n",
              "    }\n",
              "  "
            ],
            "text/plain": [
              "<IPython.core.display.Javascript object>"
            ]
          },
          "metadata": {}
        },
        {
          "output_type": "display_data",
          "data": {
            "application/javascript": [
              "download(\"download_7f7137a8-cebc-4ed2-9bee-087c1225f75a\", \"data.csv\", 17619997)"
            ],
            "text/plain": [
              "<IPython.core.display.Javascript object>"
            ]
          },
          "metadata": {}
        }
      ]
    }
  ]
}